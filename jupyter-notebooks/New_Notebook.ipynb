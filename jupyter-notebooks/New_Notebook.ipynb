{
 "metadata": {
  "language_info": {
   "codemirror_mode": {
    "name": "ipython",
    "version": 3
   },
   "file_extension": ".py",
   "mimetype": "text/x-python",
   "name": "python",
   "nbconvert_exporter": "python",
   "pygments_lexer": "ipython3",
   "version": "3.8.2"
  },
  "orig_nbformat": 2,
  "kernelspec": {
   "name": "python382jvsc74a57bd0ac6ea21dcd4479751e799e755fe5d6de8011582d3f299a999bb86f8b4d2932c0",
   "display_name": "Python 3.8.2 64-bit ('small-projects-py': pipenv)"
  },
  "metadata": {
   "interpreter": {
    "hash": "ac6ea21dcd4479751e799e755fe5d6de8011582d3f299a999bb86f8b4d2932c0"
   }
  }
 },
 "nbformat": 4,
 "nbformat_minor": 2,
 "cells": [
  {
   "cell_type": "code",
   "execution_count": 1,
   "metadata": {},
   "outputs": [
    {
     "output_type": "stream",
     "name": "stdout",
     "text": [
      "Start of something new\n"
     ]
    }
   ],
   "source": [
    "print(\"Start of something new\")"
   ]
  },
  {
   "cell_type": "code",
   "execution_count": null,
   "metadata": {},
   "outputs": [],
   "source": []
  }
 ]
}